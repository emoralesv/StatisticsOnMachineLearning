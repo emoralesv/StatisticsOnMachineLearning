{
  "cells": [
    {
      "cell_type": "markdown",
      "metadata": {},
      "source": [
        "# Tama\u00f1o de muestra\n"
      ]
    },
    {
      "cell_type": "markdown",
      "metadata": {},
      "source": [
        "Determinamos el tama\u00f1o de muestra necesario para estimar una proporci\u00f3n con un margen de error dado.\n"
      ]
    },
    {
      "cell_type": "markdown",
      "metadata": {},
      "source": [
        "Usamos la f\u00f3rmula del tama\u00f1o de muestra para proporciones con un nivel de confianza del 95%.\n"
      ]
    },
    {
      "cell_type": "code",
      "metadata": {},
      "execution_count": null,
      "outputs": [],
      "source": [
        "\nimport math\nZ = 1.96  # 95% de confianza\np = 0.5   # proporci\u00f3n esperada\ne = 0.05  # margen de error permitido\nn = (Z**2 * p * (1-p)) / (e**2)\nprint('Tama\u00f1o de muestra aproximado:', math.ceil(n))\n"
      ]
    },
    {
      "cell_type": "markdown",
      "metadata": {},
      "source": [
        "Para una proporci\u00f3n esperada del 50% y un margen de error del 5%, se requiere una muestra de aproximadamente 385 observaciones.\n"
      ]
    },
    {
      "cell_type": "markdown",
      "metadata": {},
      "source": [
        "**Ejercicio:** Cambia el margen de error a 3% y calcula el nuevo tama\u00f1o de muestra. *Hint:* ajusta `e = 0.03`.\n"
      ]
    }
  ],
  "metadata": {
    "kernelspec": {
      "display_name": "Python 3",
      "language": "python",
      "name": "python3"
    },
    "language_info": {
      "name": "python",
      "version": "3.10"
    }
  },
  "nbformat": 4,
  "nbformat_minor": 5
}