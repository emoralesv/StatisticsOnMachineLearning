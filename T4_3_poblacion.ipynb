{
  "cells": [
    {
      "cell_type": "markdown",
      "metadata": {},
      "source": [
        "# Poblaci\u00f3n\n"
      ]
    },
    {
      "cell_type": "markdown",
      "metadata": {},
      "source": [
        "Comparamos la caracter\u00edstica de toda una poblaci\u00f3n con una muestra extra\u00edda de ella.\n"
      ]
    },
    {
      "cell_type": "markdown",
      "metadata": {},
      "source": [
        "Generamos una poblaci\u00f3n sint\u00e9tica de 1000 valores y tomamos una muestra aleatoria de 100 para estimar la media.\n"
      ]
    },
    {
      "cell_type": "code",
      "metadata": {},
      "execution_count": null,
      "outputs": [],
      "source": [
        "\nimport numpy as np\nnp.random.seed(0)\npoblacion = np.random.normal(loc=50, scale=10, size=1000)\nmuestra = np.random.choice(poblacion, size=100, replace=False)\nmedia_poblacion = np.mean(poblacion)\nmedia_muestra = np.mean(muestra)\nprint('Media de la poblaci\u00f3n:', media_poblacion)\nprint('Media de la muestra:', media_muestra)\n"
      ]
    },
    {
      "cell_type": "code",
      "metadata": {},
      "execution_count": null,
      "outputs": [],
      "source": [
        "\nimport matplotlib.pyplot as plt\nplt.hist(poblacion, bins=30, alpha=0.5, label='Poblaci\u00f3n')\nplt.hist(muestra, bins=15, alpha=0.5, label='Muestra')\nplt.legend()\nplt.show()\n"
      ]
    },
    {
      "cell_type": "markdown",
      "metadata": {},
      "source": [
        "La media de la muestra se aproxima a la media verdadera de la poblaci\u00f3n, ilustrando la importancia de muestrear correctamente.\n"
      ]
    },
    {
      "cell_type": "markdown",
      "metadata": {},
      "source": [
        "**Ejercicio:** Calcula el error absoluto entre la media de la muestra y de la poblaci\u00f3n. *Hint:* Usa `abs(media_muestra - media_poblacion)`.\n"
      ]
    }
  ],
  "metadata": {
    "kernelspec": {
      "display_name": "Python 3",
      "language": "python",
      "name": "python3"
    },
    "language_info": {
      "name": "python",
      "version": "3.10"
    }
  },
  "nbformat": 4,
  "nbformat_minor": 5
}