{
  "cells": [
    {
      "cell_type": "markdown",
      "metadata": {},
      "source": [
        "# Prueba para variables no param\u00e9tricas\n"
      ]
    },
    {
      "cell_type": "markdown",
      "metadata": {},
      "source": [
        "Aplicamos la prueba de Mann-Whitney U para comparar distribuciones sin asumir normalidad.\n"
      ]
    },
    {
      "cell_type": "markdown",
      "metadata": {},
      "source": [
        "Se generan dos grupos con distribuciones diferentes y se aplica `mannwhitneyu`.\n"
      ]
    },
    {
      "cell_type": "code",
      "metadata": {},
      "execution_count": null,
      "outputs": [],
      "source": [
        "\nimport numpy as np\nfrom scipy import stats\nnp.random.seed(2)\ng1 = np.random.exponential(scale=1.0, size=30)\ng2 = np.random.exponential(scale=1.5, size=30)\nu_stat, p_val = stats.mannwhitneyu(g1, g2, alternative='two-sided')\nprint('Estad\u00edstico U:', u_stat)\nprint('p-valor:', p_val)\n"
      ]
    },
    {
      "cell_type": "markdown",
      "metadata": {},
      "source": [
        "La prueba de Mann-Whitney detecta diferencias en la distribuci\u00f3n sin requerir normalidad.\n"
      ]
    },
    {
      "cell_type": "markdown",
      "metadata": {},
      "source": [
        "**Ejercicio:** Cambia `alternative` a `'greater'` y compara el resultado. *Hint:* reemplaza `alternative='two-sided'`.\n"
      ]
    }
  ],
  "metadata": {
    "kernelspec": {
      "display_name": "Python 3",
      "language": "python",
      "name": "python3"
    },
    "language_info": {
      "name": "python",
      "version": "3.10"
    }
  },
  "nbformat": 4,
  "nbformat_minor": 5
}