{
  "cells": [
    {
      "cell_type": "markdown",
      "metadata": {},
      "source": [
        "# Prueba para variables param\u00e9tricas\n"
      ]
    },
    {
      "cell_type": "markdown",
      "metadata": {},
      "source": [
        "Utilizamos la prueba t de Student para comparar dos medias.\n"
      ]
    },
    {
      "cell_type": "markdown",
      "metadata": {},
      "source": [
        "Generamos dos grupos de datos normalmente distribuidos y aplicamos `ttest_ind`.\n"
      ]
    },
    {
      "cell_type": "code",
      "metadata": {},
      "execution_count": null,
      "outputs": [],
      "source": [
        "\nimport numpy as np\nfrom scipy import stats\nnp.random.seed(1)\ng1 = np.random.normal(5,1,30)\ng2 = np.random.normal(5.5,1,30)\nt, p = stats.ttest_ind(g1, g2)\nprint('Estad\u00edstico t:', t)\nprint('p-valor:', p)\n"
      ]
    },
    {
      "cell_type": "markdown",
      "metadata": {},
      "source": [
        "Si el p-valor es menor a 0.05, concluimos que las medias son significativamente diferentes.\n"
      ]
    },
    {
      "cell_type": "markdown",
      "metadata": {},
      "source": [
        "**Ejercicio:** Aumenta la diferencia de medias a 2 unidades y observa el efecto en el p-valor. *Hint:* cambia `5.5` por `7`.\n"
      ]
    }
  ],
  "metadata": {
    "kernelspec": {
      "display_name": "Python 3",
      "language": "python",
      "name": "python3"
    },
    "language_info": {
      "name": "python",
      "version": "3.10"
    }
  },
  "nbformat": 4,
  "nbformat_minor": 5
}