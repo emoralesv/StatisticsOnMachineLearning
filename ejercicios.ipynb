{
 "cells": [
  {
   "cell_type": "markdown",
   "metadata": {},
   "source": [
    "# Ejercicios de ejemplo\n",
    "Estos ejercicios están comentados para guiar el aprendizaje."
   ]
  },
  {
   "cell_type": "code",
   "execution_count": null,
   "metadata": {},
   "outputs": [],
   "source": [
    "# Ejercicio 1: Calcular la media de una lista\n",
    "datos = [1, 2, 3, 4, 5]\n",
    "media = sum(datos) / len(datos)\n",
    "media"
   ]
  },
  {
   "cell_type": "code",
   "execution_count": null,
   "metadata": {},
   "outputs": [],
   "source": [
    "# Ejercicio 2: Graficar una serie de valores\n",
    "import matplotlib.pyplot as plt\n",
    "valores = [1, 4, 9, 16]\n",
    "plt.plot(valores)\n",
    "plt.show()"
   ]
  }
 ],
 "metadata": {
  "kernelspec": {
   "display_name": "Python 3",
   "language": "python",
   "name": "python3"
  },
  "language_info": {
   "name": "python",
   "version": "3.8"
  }
 },
 "nbformat": 4,
 "nbformat_minor": 5
}