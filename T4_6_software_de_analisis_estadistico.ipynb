{
  "cells": [
    {
      "cell_type": "markdown",
      "metadata": {},
      "source": [
        "# Software de an\u00e1lisis estad\u00edstico\n"
      ]
    },
    {
      "cell_type": "markdown",
      "metadata": {},
      "source": [
        "Mostramos el uso de `statsmodels` para ajustar un modelo de regresi\u00f3n lineal.\n"
      ]
    },
    {
      "cell_type": "markdown",
      "metadata": {},
      "source": [
        "Se genera un conjunto de datos sint\u00e9tico y se ajusta un modelo de regresi\u00f3n usando `statsmodels`.\n"
      ]
    },
    {
      "cell_type": "code",
      "metadata": {},
      "execution_count": null,
      "outputs": [],
      "source": [
        "\nimport numpy as np\nimport pandas as pd\nimport statsmodels.api as sm\nnp.random.seed(0)\nX = np.linspace(0,10,50)\ny = 3*X + np.random.normal(0,1,50)\nX = sm.add_constant(X)\nmodelo = sm.OLS(y, X).fit()\nprint(modelo.summary())\n"
      ]
    },
    {
      "cell_type": "code",
      "metadata": {},
      "execution_count": null,
      "outputs": [],
      "source": [
        "\nimport matplotlib.pyplot as plt\nplt.scatter(X[:,1], y, label='Datos')\nplt.plot(X[:,1], modelo.predict(X), color='red', label='Ajuste')\nplt.legend()\nplt.show()\n"
      ]
    },
    {
      "cell_type": "markdown",
      "metadata": {},
      "source": [
        "`statsmodels` proporciona un resumen detallado del modelo, incluyendo coeficientes y significancia.\n"
      ]
    },
    {
      "cell_type": "markdown",
      "metadata": {},
      "source": [
        "**Ejercicio:** Cambia la pendiente real a `5` y vuelve a ajustar el modelo. *Hint:* reemplaza `3*X` por `5*X`.\n"
      ]
    }
  ],
  "metadata": {
    "kernelspec": {
      "display_name": "Python 3",
      "language": "python",
      "name": "python3"
    },
    "language_info": {
      "name": "python",
      "version": "3.10"
    }
  },
  "nbformat": 4,
  "nbformat_minor": 5
}