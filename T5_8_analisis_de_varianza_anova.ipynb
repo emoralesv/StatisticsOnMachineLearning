{
  "cells": [
    {
      "cell_type": "markdown",
      "metadata": {},
      "source": [
        "# An\u00e1lisis de varianza (ANOVA)\n"
      ]
    },
    {
      "cell_type": "markdown",
      "metadata": {},
      "source": [
        "Comparamos medias de m\u00e1s de dos grupos con ANOVA de una v\u00eda.\n"
      ]
    },
    {
      "cell_type": "markdown",
      "metadata": {},
      "source": [
        "Se generan tres grupos de datos y se utiliza `f_oneway` de `scipy`.\n"
      ]
    },
    {
      "cell_type": "code",
      "metadata": {},
      "execution_count": null,
      "outputs": [],
      "source": [
        "\nimport numpy as np\nfrom scipy import stats\nnp.random.seed(3)\ng1 = np.random.normal(5,1,20)\ng2 = np.random.normal(6,1,20)\ng3 = np.random.normal(5.5,1,20)\nf_stat, p_val = stats.f_oneway(g1, g2, g3)\nprint('Estad\u00edstico F:', f_stat)\nprint('p-valor:', p_val)\n"
      ]
    },
    {
      "cell_type": "markdown",
      "metadata": {},
      "source": [
        "Un p-valor peque\u00f1o indica que al menos una media difiere significativamente de las otras.\n"
      ]
    },
    {
      "cell_type": "markdown",
      "metadata": {},
      "source": [
        "**Ejercicio:** Agrega un cuarto grupo y realiza nuevamente el ANOVA. *Hint:* genera `g4` y a\u00f1\u00e1delo a `f_oneway`.\n"
      ]
    }
  ],
  "metadata": {
    "kernelspec": {
      "display_name": "Python 3",
      "language": "python",
      "name": "python3"
    },
    "language_info": {
      "name": "python",
      "version": "3.10"
    }
  },
  "nbformat": 4,
  "nbformat_minor": 5
}