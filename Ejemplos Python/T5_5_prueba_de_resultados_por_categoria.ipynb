{
  "cells": [
    {
      "cell_type": "markdown",
      "metadata": {},
      "source": [
        "# Prueba de resultados por categor\u00eda\n"
      ]
    },
    {
      "cell_type": "markdown",
      "metadata": {},
      "source": [
        "Aplicamos una prueba chi-cuadrado para comparar resultados entre categor\u00edas.\n"
      ]
    },
    {
      "cell_type": "markdown",
      "metadata": {},
      "source": [
        "Creamos una tabla de contingencia de dos variables categ\u00f3ricas y evaluamos si son independientes.\n"
      ]
    },
    {
      "cell_type": "code",
      "metadata": {},
      "execution_count": null,
      "outputs": [],
      "source": [
        "\nimport numpy as np\nfrom scipy import stats\ntabla = np.array([[30, 10], [20, 40]])\nchi2, p_val, _, _ = stats.chi2_contingency(tabla)\nprint('Chi-cuadrado:', chi2)\nprint('p-valor:', p_val)\n"
      ]
    },
    {
      "cell_type": "markdown",
      "metadata": {},
      "source": [
        "Un p-valor bajo sugiere que las categor\u00edas no son independientes.\n"
      ]
    },
    {
      "cell_type": "markdown",
      "metadata": {},
      "source": [
        "**Ejercicio:** Modifica los valores de la tabla para obtener un p-valor mayor. *Hint:* prueba con `[[25,15],[25,35]]`.\n"
      ]
    }
  ],
  "metadata": {
    "kernelspec": {
      "display_name": "Python 3",
      "language": "python",
      "name": "python3"
    },
    "language_info": {
      "name": "python",
      "version": "3.10"
    }
  },
  "nbformat": 4,
  "nbformat_minor": 5
}