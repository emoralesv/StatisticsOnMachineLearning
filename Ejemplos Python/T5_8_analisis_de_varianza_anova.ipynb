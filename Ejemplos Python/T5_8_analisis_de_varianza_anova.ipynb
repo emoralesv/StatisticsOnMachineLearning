{
  "cells": [
    {
      "cell_type": "markdown",
      "metadata": {},
      "source": [
        "# Análisis de varianza (ANOVA)\n"
      ]
    },
    {
      "cell_type": "markdown",
      "metadata": {},
      "source": [
        "Comparamos medias de más de dos grupos con ANOVA de una vía.\n"
      ]
    },
    {
      "cell_type": "markdown",
      "metadata": {},
      "source": [
        "Se generan tres grupos de datos y se utiliza `f_oneway` de `scipy`.\n"
      ]
    },
    {
      "cell_type": "code",
      "execution_count": null,
      "metadata": {},
      "outputs": [
        {
          "ename": "",
          "evalue": "",
          "output_type": "error",
          "traceback": [
            "\u001b[1;31mRunning cells with 'stat (3.13.5) (Python 3.13.5)' requires the ipykernel package.\n",
            "\u001b[1;31mInstall 'ipykernel' into the Python environment. \n",
            "\u001b[1;31mCommand: 'i:/Documentos/Documentos/repos/statistics/StatisticsOnMachineLearning/stat/Scripts/python.exe -m pip install ipykernel -U --force-reinstall'"
          ]
        }
      ],
      "source": [
        "\n",
        "import numpy as np\n",
        "from scipy import stats\n",
        "np.random.seed(3)\n",
        "g1 = np.random.normal(5,1,20)\n",
        "g2 = np.random.normal(6,1,20)\n",
        "g3 = np.random.normal(5.5,1,20)\n",
        "f_stat, p_val = stats.f_oneway(g1, g2, g3)\n",
        "print('Estadístico F:', f_stat)\n",
        "print('p-valor:', p_val)\n"
      ]
    },
    {
      "cell_type": "markdown",
      "metadata": {},
      "source": [
        "Un p-valor pequeño indica que al menos una media difiere significativamente de las otras.\n"
      ]
    },
    {
      "cell_type": "markdown",
      "metadata": {},
      "source": [
        "**Ejercicio:** Agrega un cuarto grupo y realiza nuevamente el ANOVA. *Hint:* genera `g4` y añádelo a `f_oneway`.\n"
      ]
    }
  ],
  "metadata": {
    "kernelspec": {
      "display_name": "stat (3.13.5)",
      "language": "python",
      "name": "python3"
    },
    "language_info": {
      "name": "python",
      "version": "3.13.5"
    }
  },
  "nbformat": 4,
  "nbformat_minor": 5
}
