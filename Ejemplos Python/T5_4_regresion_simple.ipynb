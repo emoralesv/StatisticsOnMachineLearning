{
  "cells": [
    {
      "cell_type": "markdown",
      "metadata": {},
      "source": [
        "# Regresi\u00f3n simple\n"
      ]
    },
    {
      "cell_type": "markdown",
      "metadata": {},
      "source": [
        "Ajustamos una regresi\u00f3n lineal simple usando `scikit-learn`.\n"
      ]
    },
    {
      "cell_type": "markdown",
      "metadata": {},
      "source": [
        "Se generan datos sint\u00e9ticos con relaci\u00f3n lineal y se estima la recta de mejor ajuste.\n"
      ]
    },
    {
      "cell_type": "code",
      "metadata": {},
      "execution_count": null,
      "outputs": [],
      "source": [
        "\nimport numpy as np\nfrom sklearn.linear_model import LinearRegression\nnp.random.seed(0)\nX = np.linspace(0,10,50).reshape(-1,1)\ny = 2*X.ravel() + np.random.normal(0,1,50)\nmodelo = LinearRegression().fit(X, y)\nprint('Coeficiente:', modelo.coef_[0])\nprint('Intercepto:', modelo.intercept_)\n"
      ]
    },
    {
      "cell_type": "code",
      "metadata": {},
      "execution_count": null,
      "outputs": [],
      "source": [
        "\nimport matplotlib.pyplot as plt\nplt.scatter(X, y, label='Datos')\nplt.plot(X, modelo.predict(X), color='red', label='Regresi\u00f3n')\nplt.legend()\nplt.show()\n"
      ]
    },
    {
      "cell_type": "markdown",
      "metadata": {},
      "source": [
        "La regresi\u00f3n simple estima la relaci\u00f3n lineal entre dos variables.\n"
      ]
    },
    {
      "cell_type": "markdown",
      "metadata": {},
      "source": [
        "**Ejercicio:** Cambia la pendiente real a `-1` y observa c\u00f3mo cambia el coeficiente estimado. *Hint:* reemplaza `2*X` por `-1*X`.\n"
      ]
    }
  ],
  "metadata": {
    "kernelspec": {
      "display_name": "Python 3",
      "language": "python",
      "name": "python3"
    },
    "language_info": {
      "name": "python",
      "version": "3.10"
    }
  },
  "nbformat": 4,
  "nbformat_minor": 5
}