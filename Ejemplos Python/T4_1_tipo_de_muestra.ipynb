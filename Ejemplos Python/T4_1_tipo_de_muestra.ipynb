{
  "cells": [
    {
      "cell_type": "markdown",
      "metadata": {},
      "source": [
        "# Tipo de muestra\n"
      ]
    },
    {
      "cell_type": "markdown",
      "metadata": {},
      "source": [
        "Exploramos la diferencia entre una muestra aleatoria simple y una muestra estratificada.\n"
      ]
    },
    {
      "cell_type": "markdown",
      "metadata": {},
      "source": [
        "Se genera un conjunto de datos sintético con una columna de grupos para ilustrar diferentes tipos de muestreo.\n"
      ]
    },
    {
      "cell_type": "code",
      "execution_count": null,
      "metadata": {},
      "outputs": [],
      "source": [
        "\n",
        "        import numpy as np\n",
        "        import pandas as pd\n",
        "        np.random.seed(0)\n",
        "        datos = pd.DataFrame({\n",
        "            'valor': np.random.randn(100),\n",
        "            'grupo': np.random.choice(['A','B','C','D'], size=100)\n",
        "        })\n",
        "        # Muestra aleatoria simple de 20 elementos\n",
        "        muestra_aleatoria = datos.sample(20, random_state=1)\n",
        "        # Muestra estratificada: 5 elementos por grupo\n",
        "        muestra_estratificada = datos.groupby('grupo').sample(5, random_state=1)\n",
        "        print('Muestra aleatoria:')\n",
        "        print(muestra_aleatoria.head())\n",
        "        print('Muestra estratificada:')\n",
        "        print(muestra_estratificada.head())\n"
      ]
    },
    {
      "cell_type": "code",
      "execution_count": null,
      "metadata": {},
      "outputs": [],
      "source": [
        "\n",
        "import matplotlib.pyplot as plt\n",
        "fig, ax = plt.subplots(1,2, figsize=(10,4))\n",
        "datos['grupo'].value_counts().plot(kind='bar', ax=ax[0], title='Población')\n",
        "muestra_estratificada['grupo'].value_counts().plot(kind='bar', ax=ax[1], title='Muestra estratificada')\n",
        "plt.tight_layout()\n",
        "plt.show()\n"
      ]
    },
    {
      "cell_type": "markdown",
      "metadata": {},
      "source": [
        "La muestra estratificada preserva la proporción de cada grupo respecto a la población, a diferencia de la muestra aleatoria.\n"
      ]
    },
    {
      "cell_type": "markdown",
      "metadata": {},
      "source": [
        "**Ejercicio:** Modifica el tamaño de la muestra estratificada y observa cómo cambian las proporciones. *Hint:* Cambia el número en `sample(5, ...)`.\n"
      ]
    }
  ],
  "metadata": {
    "kernelspec": {
      "display_name": "Python 3",
      "language": "python",
      "name": "python3"
    },
    "language_info": {
      "name": "python",
      "version": "3.10"
    }
  },
  "nbformat": 4,
  "nbformat_minor": 5
}
