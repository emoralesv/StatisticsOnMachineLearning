{
  "cells": [
    {
      "cell_type": "markdown",
      "metadata": {},
      "source": [
        "# Tipo de muestra\n"
      ]
    },
    {
      "cell_type": "markdown",
      "metadata": {},
      "source": [
        "Exploramos la diferencia entre una muestra aleatoria simple y una muestra estratificada.\n"
      ]
    },
    {
      "cell_type": "markdown",
      "metadata": {},
      "source": [
        "Se genera un conjunto de datos sint\u00e9tico con una columna de grupos para ilustrar diferentes tipos de muestreo.\n"
      ]
    },
    {
      "cell_type": "code",
      "metadata": {},
      "execution_count": null,
      "outputs": [],
      "source": [
        "\n        import numpy as np\n        import pandas as pd\n        np.random.seed(0)\n        datos = pd.DataFrame({\n            'valor': np.random.randn(100),\n            'grupo': np.random.choice(['A','B','C','D'], size=100)\n        })\n        # Muestra aleatoria simple de 20 elementos\n        muestra_aleatoria = datos.sample(20, random_state=1)\n        # Muestra estratificada: 5 elementos por grupo\n        muestra_estratificada = datos.groupby('grupo').sample(5, random_state=1)\n        print('Muestra aleatoria:')\n        print(muestra_aleatoria.head())\n        print('\nMuestra estratificada:')\n        print(muestra_estratificada.head())\n"
      ]
    },
    {
      "cell_type": "code",
      "metadata": {},
      "execution_count": null,
      "outputs": [],
      "source": [
        "\nimport matplotlib.pyplot as plt\nfig, ax = plt.subplots(1,2, figsize=(10,4))\ndatos['grupo'].value_counts().plot(kind='bar', ax=ax[0], title='Poblaci\u00f3n')\nmuestra_estratificada['grupo'].value_counts().plot(kind='bar', ax=ax[1], title='Muestra estratificada')\nplt.tight_layout()\nplt.show()\n"
      ]
    },
    {
      "cell_type": "markdown",
      "metadata": {},
      "source": [
        "La muestra estratificada preserva la proporci\u00f3n de cada grupo respecto a la poblaci\u00f3n, a diferencia de la muestra aleatoria.\n"
      ]
    },
    {
      "cell_type": "markdown",
      "metadata": {},
      "source": [
        "**Ejercicio:** Modifica el tama\u00f1o de la muestra estratificada y observa c\u00f3mo cambian las proporciones. *Hint:* Cambia el n\u00famero en `sample(5, ...)`.\n"
      ]
    }
  ],
  "metadata": {
    "kernelspec": {
      "display_name": "Python 3",
      "language": "python",
      "name": "python3"
    },
    "language_info": {
      "name": "python",
      "version": "3.10"
    }
  },
  "nbformat": 4,
  "nbformat_minor": 5
}