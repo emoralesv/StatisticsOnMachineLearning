{
  "cells": [
    {
      "cell_type": "markdown",
      "metadata": {},
      "source": [
        "# Par\u00e1metros que analizar\n"
      ]
    },
    {
      "cell_type": "markdown",
      "metadata": {},
      "source": [
        "Calculamos par\u00e1metros estad\u00edsticos b\u00e1sicos como media y desviaci\u00f3n est\u00e1ndar.\n"
      ]
    },
    {
      "cell_type": "markdown",
      "metadata": {},
      "source": [
        "Usamos el conjunto de datos Iris disponible en `scikit-learn` para ejemplificar el an\u00e1lisis de par\u00e1metros.\n"
      ]
    },
    {
      "cell_type": "code",
      "metadata": {},
      "execution_count": null,
      "outputs": [],
      "source": [
        "\n        from sklearn.datasets import load_iris\n        import pandas as pd\n        data = load_iris()\n        df = pd.DataFrame(data.data, columns=data.feature_names)\n        # C\u00e1lculo de media y desviaci\u00f3n est\u00e1ndar\n        medias = df.mean()\n        desvios = df.std()\n        print('Medias:\n', medias)\n        print('\nDesviaciones est\u00e1ndar:\n', desvios)\n"
      ]
    },
    {
      "cell_type": "code",
      "metadata": {},
      "execution_count": null,
      "outputs": [],
      "source": [
        "\nimport matplotlib.pyplot as plt\nmedias.plot(kind='bar', yerr=desvios, title='Media y desviaci\u00f3n est\u00e1ndar')\nplt.ylabel('cm')\nplt.show()\n"
      ]
    },
    {
      "cell_type": "markdown",
      "metadata": {},
      "source": [
        "Las medias y desviaciones est\u00e1ndar resumen la tendencia central y la dispersi\u00f3n de cada caracter\u00edstica del conjunto Iris.\n"
      ]
    },
    {
      "cell_type": "markdown",
      "metadata": {},
      "source": [
        "**Ejercicio:** Calcula la mediana de cada columna del DataFrame. *Hint:* Usa `df.median()`.\n"
      ]
    }
  ],
  "metadata": {
    "kernelspec": {
      "display_name": "Python 3",
      "language": "python",
      "name": "python3"
    },
    "language_info": {
      "name": "python",
      "version": "3.10"
    }
  },
  "nbformat": 4,
  "nbformat_minor": 5
}