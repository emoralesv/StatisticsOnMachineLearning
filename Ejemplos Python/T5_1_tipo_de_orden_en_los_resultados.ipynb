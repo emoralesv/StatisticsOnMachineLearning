{
  "cells": [
    {
      "cell_type": "markdown",
      "metadata": {},
      "source": [
        "# Tipo de orden en los resultados\n"
      ]
    },
    {
      "cell_type": "markdown",
      "metadata": {},
      "source": [
        "Organizamos resultados num\u00e9ricos de forma ascendente para facilitar su interpretaci\u00f3n.\n"
      ]
    },
    {
      "cell_type": "markdown",
      "metadata": {},
      "source": [
        "Se genera una lista de calificaciones y se ordena utilizando `pandas`.\n"
      ]
    },
    {
      "cell_type": "code",
      "metadata": {},
      "execution_count": null,
      "outputs": [],
      "source": [
        "\n        import pandas as pd\n        calificaciones = pd.Series([88, 92, 75, 83, 95])\n        ordenadas = calificaciones.sort_values()\n        print('Calificaciones ordenadas:\n', ordenadas)\n"
      ]
    },
    {
      "cell_type": "code",
      "metadata": {},
      "execution_count": null,
      "outputs": [],
      "source": [
        "\nimport matplotlib.pyplot as plt\nordenadas.reset_index(drop=True).plot(marker='o')\nplt.title('Calificaciones ordenadas')\nplt.xlabel('\u00cdndice ordenado')\nplt.ylabel('Calificaci\u00f3n')\nplt.show()\n"
      ]
    },
    {
      "cell_type": "markdown",
      "metadata": {},
      "source": [
        "Ordenar los resultados permite identificar f\u00e1cilmente m\u00ednimos y m\u00e1ximos.\n"
      ]
    },
    {
      "cell_type": "markdown",
      "metadata": {},
      "source": [
        "**Ejercicio:** Ordena las calificaciones de forma descendente. *Hint:* usa `sort_values(ascending=False)`.\n"
      ]
    }
  ],
  "metadata": {
    "kernelspec": {
      "display_name": "Python 3",
      "language": "python",
      "name": "python3"
    },
    "language_info": {
      "name": "python",
      "version": "3.10"
    }
  },
  "nbformat": 4,
  "nbformat_minor": 5
}