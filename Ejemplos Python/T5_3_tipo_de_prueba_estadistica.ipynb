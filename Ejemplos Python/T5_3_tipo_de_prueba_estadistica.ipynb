{
  "cells": [
    {
      "cell_type": "markdown",
      "metadata": {},
      "source": [
        "# Tipo de prueba estad\u00edstica\n"
      ]
    },
    {
      "cell_type": "markdown",
      "metadata": {},
      "source": [
        "Elegimos una prueba adecuada seg\u00fan el tipo de variables.\n"
      ]
    },
    {
      "cell_type": "markdown",
      "metadata": {},
      "source": [
        "Comparamos medias de dos grupos con una prueba t y proporciones con una prueba chi-cuadrado.\n"
      ]
    },
    {
      "cell_type": "code",
      "metadata": {},
      "execution_count": null,
      "outputs": [],
      "source": [
        "\nimport numpy as np\nfrom scipy import stats\nnp.random.seed(0)\ngrupo1 = np.random.normal(10,2,30)\ngrupo2 = np.random.normal(12,2,30)\nt_stat, p_val = stats.ttest_ind(grupo1, grupo2)\nprint('Prueba t: p-valor =', p_val)\ntabla = np.array([[10,20],[12,18]])\nchi2, p_chi, _, _ = stats.chi2_contingency(tabla)\nprint('Prueba chi-cuadrado: p-valor =', p_chi)\n"
      ]
    },
    {
      "cell_type": "markdown",
      "metadata": {},
      "source": [
        "Elegimos la prueba t para comparar medias de variables continuas y la chi-cuadrado para comparar frecuencias categ\u00f3ricas.\n"
      ]
    },
    {
      "cell_type": "markdown",
      "metadata": {},
      "source": [
        "**Ejercicio:** Cambia los valores de `tabla` y vuelve a calcular la prueba chi-cuadrado. *Hint:* modifica la matriz `tabla`.\n"
      ]
    }
  ],
  "metadata": {
    "kernelspec": {
      "display_name": "Python 3",
      "language": "python",
      "name": "python3"
    },
    "language_info": {
      "name": "python",
      "version": "3.10"
    }
  },
  "nbformat": 4,
  "nbformat_minor": 5
}