{
  "cells": [
    {
      "cell_type": "markdown",
      "metadata": {},
      "source": [
        "# Tipos de errores estad\u00edsticos\n"
      ]
    },
    {
      "cell_type": "markdown",
      "metadata": {},
      "source": [
        "Simulamos errores tipo I y tipo II en pruebas de hip\u00f3tesis.\n"
      ]
    },
    {
      "cell_type": "markdown",
      "metadata": {},
      "source": [
        "Generamos datos bajo la hip\u00f3tesis nula y alternativa para ilustrar los errores estad\u00edsticos.\n"
      ]
    },
    {
      "cell_type": "code",
      "metadata": {},
      "execution_count": null,
      "outputs": [],
      "source": [
        "\nimport numpy as np\nfrom scipy import stats\nnp.random.seed(0)\nalpha = 0.05\nn_sim = 1000\nerrores_tipo_I = 0\nerrores_tipo_II = 0\nfor _ in range(n_sim):\n    # Hip\u00f3tesis nula verdadera (media 0)\n    muestra_h0 = np.random.normal(0,1,30)\n    if stats.ttest_1samp(muestra_h0, 0).pvalue < alpha:\n        errores_tipo_I += 1\n    # Hip\u00f3tesis alternativa verdadera (media 0.5)\n    muestra_h1 = np.random.normal(0.5,1,30)\n    if stats.ttest_1samp(muestra_h1, 0).pvalue >= alpha:\n        errores_tipo_II += 1\nprint('Proporci\u00f3n de errores tipo I:', errores_tipo_I/n_sim)\nprint('Proporci\u00f3n de errores tipo II:', errores_tipo_II/n_sim)\n"
      ]
    },
    {
      "cell_type": "markdown",
      "metadata": {},
      "source": [
        "Un error tipo I ocurre cuando rechazamos una hip\u00f3tesis verdadera; un error tipo II, cuando no rechazamos una hip\u00f3tesis falsa.\n"
      ]
    },
    {
      "cell_type": "markdown",
      "metadata": {},
      "source": [
        "**Ejercicio:** Incrementa el tama\u00f1o de la muestra a 60 y observa c\u00f3mo cambia la proporci\u00f3n de errores tipo II. *Hint:* modifica `30` por `60`.\n"
      ]
    }
  ],
  "metadata": {
    "kernelspec": {
      "display_name": "Python 3",
      "language": "python",
      "name": "python3"
    },
    "language_info": {
      "name": "python",
      "version": "3.10"
    }
  },
  "nbformat": 4,
  "nbformat_minor": 5
}