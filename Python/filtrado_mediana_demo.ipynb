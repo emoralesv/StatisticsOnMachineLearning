{
  "cells": [
    {
      "cell_type": "markdown",
      "metadata": {},
      "source": [
        "# Filtrado de **mediana** y tamaño de ventana\n",
        "\n",
        "Este cuaderno ilustra cómo el **tamaño de la ventana** en un **filtro de mediana** afecta el resultado al eliminar **ruido sal y pimienta**. \n",
        "\n",
        "La analogía con el **tamaño de muestra** es la siguiente: ventanas muy pequeñas \n",
        "⇢ resultados inestables; ventanas adecuadas ⇢ buen equilibrio; ventanas demasiado grandes ⇢ sesgo por pérdida de detalle."
      ]
    },
    {
      "cell_type": "markdown",
      "metadata": {},
      "source": [
        "## Dependencias\n",
        "Ejecuta esta celda una vez si estás en un entorno nuevo. Si ya instalaste, puedes omitirla."
      ]
    },
    {
      "cell_type": "code",
      "execution_count": null,
      "metadata": {
        "tags": [
          "hide-output"
        ]
      },
      "outputs": [],
      "source": [
        "import sys, subprocess\n",
        "pkgs = ['numpy', 'matplotlib', 'scikit-image', 'scipy']\n",
        "for p in pkgs:\n",
        "    try:\n",
        "        __import__(p if p!='scikit-image' else 'skimage')\n",
        "    except ImportError:\n",
        "        subprocess.check_call([sys.executable, '-m', 'pip', 'install', p])\n",
        "print('Ready!')"
      ]
    },
    {
      "cell_type": "markdown",
      "metadata": {},
      "source": [
        "## Cargar imagen y añadir ruido sal y pimienta"
      ]
    },
    {
      "cell_type": "code",
      "execution_count": null,
      "metadata": {},
      "outputs": [],
      "source": [
        "import numpy as np\n",
        "import matplotlib.pyplot as plt\n",
        "from skimage import data, img_as_float\n",
        "from skimage.util import random_noise\n",
        "from skimage.filters import median\n",
        "from skimage.morphology import square\n",
        "from skimage.metrics import peak_signal_noise_ratio as psnr, structural_similarity as ssim\n",
        "\n",
        "image = img_as_float(data.camera())\n",
        "noisy = random_noise(image, mode='s&p', amount=0.1)\n",
        "\n",
        "# Mostrar imagen ruidosa (figura independiente, sin especificar colores ni estilos)\n",
        "plt.figure(figsize=(5,5))\n",
        "plt.imshow(noisy, cmap='gray')\n",
        "plt.title('Imagen con ruido sal y pimienta (10%)')\n",
        "plt.axis('off')\n",
        "plt.show()"
      ]
    },
    {
      "cell_type": "markdown",
      "metadata": {},
      "source": [
        "## Aplicar filtro de **mediana** con distintos tamaños de ventana\n",
        "Probamos con ventanas cuadradas de 3×3, 7×7 y 15×15."
      ]
    },
    {
      "cell_type": "code",
      "execution_count": null,
      "metadata": {},
      "outputs": [],
      "source": [
        "window_sizes = [3, 7, 15]\n",
        "results = {}\n",
        "for w in window_sizes:\n",
        "    filtered = median(noisy, footprint=square(w))\n",
        "    results[w] = filtered\n",
        "    # Figura independiente por resultado\n",
        "    plt.figure(figsize=(5,5))\n",
        "    plt.imshow(filtered, cmap='gray')\n",
        "    plt.title(f'Filtro de mediana {w}x{w}')\n",
        "    plt.axis('off')\n",
        "    plt.show()\n",
        "\n",
        "print('Hecho.')"
      ]
    },
    {
      "cell_type": "markdown",
      "metadata": {},
      "source": [
        "## Métricas objetivas (PSNR y SSIM)\n",
        "Calculamos PSNR y SSIM respecto a la imagen original para cada tamaño de ventana."
      ]
    },
    {
      "cell_type": "code",
      "execution_count": null,
      "metadata": {},
      "outputs": [],
      "source": [
        "import pandas as pd\n",
        "rows = []\n",
        "for w, im in results.items():\n",
        "    v_psnr = psnr(image, im, data_range=1.0)\n",
        "    v_ssim = ssim(image, im, data_range=1.0)\n",
        "    rows.append({'Ventana': f'{w}x{w}', 'PSNR': v_psnr, 'SSIM': v_ssim})\n",
        "df = pd.DataFrame(rows).sort_values('Ventana')\n",
        "df"
      ]
    },
    {
      "cell_type": "markdown",
      "metadata": {},
      "source": [
        "## Curvas PSNR/SSIM vs tamaño de ventana\n",
        "Se grafican en figuras separadas (sin subplots)."
      ]
    },
    {
      "cell_type": "code",
      "execution_count": null,
      "metadata": {},
      "outputs": [],
      "source": [
        "x = [int(v.split('x')[0]) for v in df['Ventana']]\n",
        "plt.figure(figsize=(6,4))\n",
        "plt.plot(x, df['PSNR'], marker='o')\n",
        "plt.xlabel('Tamaño de ventana (lado)')\n",
        "plt.ylabel('PSNR')\n",
        "plt.title('PSNR vs tamaño de ventana (mediana)')\n",
        "plt.grid(True)\n",
        "plt.show()\n",
        "\n",
        "plt.figure(figsize=(6,4))\n",
        "plt.plot(x, df['SSIM'], marker='o')\n",
        "plt.xlabel('Tamaño de ventana (lado)')\n",
        "plt.ylabel('SSIM')\n",
        "plt.title('SSIM vs tamaño de ventana (mediana)')\n",
        "plt.grid(True)\n",
        "plt.show()"
      ]
    },
    {
      "cell_type": "markdown",
      "metadata": {},
      "source": [
        "## Interpretación\n",
        "- **Ventanas pequeñas (p. ej. 3×3):** eliminan parte del ruido pero pueden dejar granulado.\n",
        "- **Ventanas intermedias (p. ej. 7×7):** buen equilibrio entre reducción de ruido y preservación de bordes.\n",
        "- **Ventanas grandes (p. ej. 15×15):** remueven más ruido, pero **suavizan** y **pierden detalle**, similar a usar una *muestra excesivamente grande* en un estudio: la estimación se vuelve sesgada al promediar demasiado contexto y borrar matices.\n",
        "\n",
        "En práctica, el tamaño óptimo se elige probando en un conjunto de validación o con criterios cuantitativos (PSNR/SSIM) según la *tarea*."
      ]
    }
  ],
  "metadata": {
    "kernelspec": {
      "display_name": "Python 3",
      "language": "python",
      "name": "python3"
    },
    "language_info": {
      "name": "python",
      "version": "3.11.8"
    }
  },
  "nbformat": 4,
  "nbformat_minor": 5
}