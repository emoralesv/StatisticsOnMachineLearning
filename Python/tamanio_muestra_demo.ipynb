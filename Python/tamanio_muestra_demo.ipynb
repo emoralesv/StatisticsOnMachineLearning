{
  "cells": [
    {
      "cell_type": "markdown",
      "metadata": {},
      "source": [
        "# Determinación del tamaño de muestra (para estudiantes)\n",
        "Este cuaderno permite calcular **n** para:\n",
        "1. Media con σ conocida (z)\n",
        "2. Media con σ desconocida (t)\n",
        "3. Proporción p (z)\n",
        "e incluye **corrección por población finita (CPF)** y **gráficos**.\n",
        "\n",
        "Usa las calculadoras interactivas y modifica los parámetros."
      ]
    },
    {
      "cell_type": "markdown",
      "metadata": {},
      "source": [
        "## Dependencias (ejecuta si es necesario)"
      ]
    },
    {
      "cell_type": "code",
      "execution_count": null,
      "metadata": {},
      "outputs": [],
      "source": [
        "import sys, subprocess\n",
        "for p in ['numpy','scipy','matplotlib','ipywidgets','pandas']:\n",
        "    try:\n",
        "        __import__(p)\n",
        "    except Exception:\n",
        "        subprocess.check_call([sys.executable, '-m', 'pip', 'install', p])\n",
        "print('Listo!')"
      ]
    },
    {
      "cell_type": "markdown",
      "metadata": {},
      "source": [
        "## Funciones de cálculo"
      ]
    },
    {
      "cell_type": "code",
      "execution_count": null,
      "metadata": {},
      "outputs": [],
      "source": [
        "import math\n",
        "import numpy as np\n",
        "from scipy import stats\n",
        "\n",
        "def n_media_sigma_conocida(z, sigma, E):\n",
        "    return (z*sigma/E)**2\n",
        "\n",
        "def n_media_sigma_desconocida_iter(s, E, conf=0.95, max_iter=10):\n",
        "    z = stats.norm.ppf(0.5 + conf/2)\n",
        "    n = (z*s/E)**2\n",
        "    for _ in range(max_iter):\n",
        "        df = max(1, int(round(n))-1)\n",
        "        t = stats.t.ppf(0.5 + conf/2, df)\n",
        "        n_new = (t*s/E)**2\n",
        "        if abs(n_new - n) < 1e-6:\n",
        "            break\n",
        "        n = n_new\n",
        "    return n\n",
        "\n",
        "def n_proporcion(z, p, E):\n",
        "    return (z**2 * p*(1-p)) / (E**2)\n",
        "\n",
        "def correccion_poblacion_finita(n0, N):\n",
        "    return n0 / (1 + (n0 - 1)/N)"
      ]
    },
    {
      "cell_type": "markdown",
      "metadata": {},
      "source": [
        "## Calculadoras interactivas"
      ]
    },
    {
      "cell_type": "code",
      "execution_count": null,
      "metadata": {},
      "outputs": [],
      "source": [
        "import ipywidgets as w\n",
        "import matplotlib.pyplot as plt\n",
        "\n",
        "def ui_media_sigma_conocida():\n",
        "    z = w.FloatText(value=1.96, description='z:')\n",
        "    sigma = w.FloatText(value=12.0, description='σ:')\n",
        "    E = w.FloatText(value=2.0, description='E:')\n",
        "    N = w.IntText(value=0, description='N (CPF):')\n",
        "    out = w.Output()\n",
        "    def run(_):\n",
        "        with out:\n",
        "            out.clear_output()\n",
        "            n0 = n_media_sigma_conocida(z.value, sigma.value, E.value)\n",
        "            print(f'n0 = {n0:.2f}  →  ceil = {math.ceil(n0)}')\n",
        "            if N.value and N.value>0:\n",
        "                nadj = correccion_poblacion_finita(n0, N.value)\n",
        "                print(f'CPF (N={N.value}): n_aj = {nadj:.2f}  →  ceil = {math.ceil(nadj)}')\n",
        "    btn = w.Button(description='Calcular')\n",
        "    btn.on_click(run)\n",
        "    display(w.VBox([w.HBox([z, sigma, E, N]), btn, out]))\n",
        "\n",
        "def ui_media_sigma_desconocida():\n",
        "    conf = w.FloatSlider(value=0.95, min=0.80, max=0.999, step=0.001, description='Conf:')\n",
        "    s = w.FloatText(value=13.0, description='s:')\n",
        "    E = w.FloatText(value=2.0, description='E:')\n",
        "    N = w.IntText(value=0, description='N (CPF):')\n",
        "    out = w.Output()\n",
        "    def run(_):\n",
        "        with out:\n",
        "            out.clear_output()\n",
        "            n0 = n_media_sigma_desconocida_iter(s.value, E.value, conf.value)\n",
        "            print(f'n (iter t) = {n0:.2f}  →  ceil = {math.ceil(n0)}')\n",
        "            if N.value and N.value>0:\n",
        "                nadj = correccion_poblacion_finita(n0, N.value)\n",
        "                print(f'CPF (N={N.value}): n_aj = {nadj:.2f}  →  ceil = {math.ceil(nadj)}')\n",
        "    btn = w.Button(description='Calcular')\n",
        "    btn.on_click(run)\n",
        "    display(w.VBox([w.HBox([conf, s, E, N]), btn, out]))\n",
        "\n",
        "def ui_proporcion():\n",
        "    z = w.FloatText(value=1.96, description='z:')\n",
        "    p = w.FloatSlider(value=0.30, min=0.01, max=0.99, step=0.01, description='p:')\n",
        "    E = w.FloatSlider(value=0.05, min=0.005, max=0.20, step=0.005, description='E:')\n",
        "    N = w.IntText(value=0, description='N (CPF):')\n",
        "    out = w.Output()\n",
        "    def run(_):\n",
        "        with out:\n",
        "            out.clear_output()\n",
        "            n0 = n_proporcion(z.value, p.value, E.value)\n",
        "            print(f'n0 = {n0:.2f}  →  ceil = {math.ceil(n0)}')\n",
        "            if N.value and N.value>0:\n",
        "                nadj = correccion_poblacion_finita(n0, N.value)\n",
        "                print(f'CPF (N={N.value}): n_aj = {nadj:.2f}  →  ceil = {math.ceil(nadj)}')\n",
        "    btn = w.Button(description='Calcular')\n",
        "    btn.on_click(run)\n",
        "    display(w.VBox([w.HBox([z, p, E, N]), btn, out]))\n",
        "\n",
        "display({'Media σ conocida (z)': ui_media_sigma_conocida,\n",
        "         'Media σ desconocida (t)': ui_media_sigma_desconocida,\n",
        "         'Proporción (z)': ui_proporcion})"
      ]
    },
    {
      "cell_type": "markdown",
      "metadata": {},
      "source": [
        "## Gráficos didácticos (una figura por gráfico)"
      ]
    },
    {
      "cell_type": "code",
      "execution_count": null,
      "metadata": {},
      "outputs": [],
      "source": [
        "import numpy as np\n",
        "import matplotlib.pyplot as plt\n",
        "\n",
        "# Gráfico 1: n vs E (media, σ conocida)\n",
        "z = 1.96; sigma = 12.0\n",
        "E_vals = np.linspace(0.5, 5.0, 40)\n",
        "n_vals = (z*sigma/E_vals)**2\n",
        "plt.figure(figsize=(6,4))\n",
        "plt.plot(E_vals, n_vals)\n",
        "plt.xlabel('Margen de error E')\n",
        "plt.ylabel('n requerido')\n",
        "plt.title('n vs E (media, σ conocida, z=1.96, σ=12)')\n",
        "plt.grid(True)\n",
        "plt.show()\n",
        "\n",
        "# Gráfico 2: n vs p (proporción, z=1.96, E=0.05)\n",
        "z = 1.96; E = 0.05\n",
        "p_vals = np.linspace(0.01, 0.99, 99)\n",
        "n_vals = (z**2 * p_vals*(1-p_vals)) / (E**2)\n",
        "plt.figure(figsize=(6,4))\n",
        "plt.plot(p_vals, n_vals)\n",
        "plt.xlabel('p')\n",
        "plt.ylabel('n requerido')\n",
        "plt.title('n vs p (proporción, z=1.96, E=0.05)')\n",
        "plt.grid(True)\n",
        "plt.show()"
      ]
    },
    {
      "cell_type": "markdown",
      "metadata": {},
      "source": [
        "## Consejos para interpretar resultados\n",
        "- Con n grande, la diferencia entre usar z y t es pequeña.\n",
        "- Si no conoces p, usa 0.5 (caso más conservador).\n",
        "- Considera costos/tiempos y usa CPF si la población es finita."
      ]
    }
  ],
  "metadata": {
    "kernelspec": {
      "display_name": "Python 3",
      "language": "python",
      "name": "python3"
    },
    "language_info": {
      "name": "python"
    }
  },
  "nbformat": 4,
  "nbformat_minor": 5
}