{
  "cells": [
    {
      "cell_type": "markdown",
      "metadata": {},
      "source": [
        "# Mediana con **preservación de bordes** (enfoque práctico)\n",
        "\n",
        "Este cuaderno compara:\n",
        "1. **Mediana estándar**.\n",
        "2. **Mediana *edge-aware*** (personalizada): aplica la mediana solo sobre vecinos cercanos en intensidad.\n",
        "3. **Bilateral** (preserva-bordes) como referencia.\n",
        "\n",
        "Se usa una imagen con ruido **sal y pimienta**, y se reportan **PSNR** y **SSIM**."
      ]
    },
    {
      "cell_type": "markdown",
      "metadata": {},
      "source": [
        "## Dependencias (opcional)"
      ]
    },
    {
      "cell_type": "code",
      "execution_count": null,
      "metadata": {},
      "outputs": [],
      "source": [
        "import sys, subprocess\n",
        "for p in ['numpy','matplotlib','scikit-image','scipy','pandas']:\n",
        "    try:\n",
        "        __import__(p if p!='scikit-image' else 'skimage')\n",
        "    except ImportError:\n",
        "        subprocess.check_call([sys.executable,'-m','pip','install',p])\n",
        "print('Ready!')"
      ]
    },
    {
      "cell_type": "markdown",
      "metadata": {},
      "source": [
        "## Cargar imagen y añadir ruido"
      ]
    },
    {
      "cell_type": "code",
      "execution_count": null,
      "metadata": {},
      "outputs": [],
      "source": [
        "import numpy as np\n",
        "import matplotlib.pyplot as plt\n",
        "from skimage import data, img_as_float\n",
        "from skimage.util import random_noise\n",
        "image = img_as_float(data.camera())\n",
        "noisy = random_noise(image, mode='s&p', amount=0.1)\n",
        "plt.figure(figsize=(5,5))\n",
        "plt.imshow(noisy, cmap='gray')\n",
        "plt.title('Imagen con ruido sal & pimienta (10%)')\n",
        "plt.axis('off')\n",
        "plt.show()"
      ]
    },
    {
      "cell_type": "markdown",
      "metadata": {},
      "source": [
        "## Filtros"
      ]
    },
    {
      "cell_type": "code",
      "execution_count": null,
      "metadata": {},
      "outputs": [],
      "source": [
        "from skimage.filters import median\n",
        "from skimage.morphology import square\n",
        "from skimage.restoration import denoise_bilateral\n",
        "\n",
        "def edge_aware_median(img, size=7, tol=0.08):\n",
        "    import numpy as np\n",
        "    pad = size // 2\n",
        "    padded = np.pad(img, pad, mode='reflect')\n",
        "    out = np.empty_like(img)\n",
        "    H, W = img.shape\n",
        "    min_valid = max(5, (size*size)//6)\n",
        "    for i in range(H):\n",
        "        for j in range(W):\n",
        "            patch = padded[i:i+size, j:j+size]\n",
        "            center = padded[i+pad, j+pad]\n",
        "            mask = np.abs(patch - center) <= tol\n",
        "            vals = patch[mask]\n",
        "            if vals.size >= min_valid:\n",
        "                out[i,j] = np.median(vals)\n",
        "            else:\n",
        "                out[i,j] = np.median(patch)\n",
        "    return out\n",
        "\n",
        "win = 7\n",
        "med_std = median(noisy, footprint=square(win))\n",
        "med_eaw = edge_aware_median(noisy, size=win, tol=0.08)\n",
        "bilat = denoise_bilateral(noisy, sigma_color=0.08, sigma_spatial=3, channel_axis=None)\n",
        "for title, im in [('Mediana estándar', med_std), ('Mediana edge-aware', med_eaw), ('Bilateral', bilat)]:\n",
        "    plt.figure(figsize=(5,5))\n",
        "    plt.imshow(im, cmap='gray')\n",
        "    plt.title(title)\n",
        "    plt.axis('off')\n",
        "    plt.show()"
      ]
    },
    {
      "cell_type": "markdown",
      "metadata": {},
      "source": [
        "## Métricas (PSNR/SSIM)"
      ]
    },
    {
      "cell_type": "code",
      "execution_count": null,
      "metadata": {},
      "outputs": [],
      "source": [
        "from skimage.metrics import peak_signal_noise_ratio as psnr, structural_similarity as ssim\n",
        "import pandas as pd\n",
        "def metrics(orig, rec):\n",
        "    return psnr(orig, rec, data_range=1.0), ssim(orig, rec, data_range=1.0)\n",
        "rows = []\n",
        "for name, im in [('Mediana estándar', med_std), ('Mediana edge-aware', med_eaw), ('Bilateral', bilat)]:\n",
        "    p, s = metrics(image, im)\n",
        "    rows.append({'Filtro': name, 'PSNR': p, 'SSIM': s})\n",
        "import pandas as pd\n",
        "df = pd.DataFrame(rows)\n",
        "df"
      ]
    },
    {
      "cell_type": "markdown",
      "metadata": {},
      "source": [
        "## Recorte para inspección de bordes"
      ]
    },
    {
      "cell_type": "code",
      "execution_count": null,
      "metadata": {},
      "outputs": [],
      "source": [
        "r0, r1, c0, c1 = 120, 220, 170, 270\n",
        "crops = {\n",
        "    'Noisy (recorte)': noisy[r0:r1, c0:c1],\n",
        "    'Mediana estándar (recorte)': med_std[r0:r1, c0:c1],\n",
        "    'Mediana edge-aware (recorte)': med_eaw[r0:r1, c0:c1],\n",
        "    'Bilateral (recorte)': bilat[r0:r1, c0:c1]\n",
        "}\n",
        "for title, im in crops.items():\n",
        "    plt.figure(figsize=(4,4))\n",
        "    plt.imshow(im, cmap='gray')\n",
        "    plt.title(title)\n",
        "    plt.axis('off')\n",
        "    plt.show()"
      ]
    },
    {
      "cell_type": "markdown",
      "metadata": {},
      "source": [
        "## Notas\n",
        "- La **mediana** ya preserva bordes mejor que la media.\n",
        "- La **edge-aware** evita cruzar bordes fuertes al excluir vecinos alejados en intensidad.\n",
        "- **Bilateral** sirve como baseline de preservación de bordes.\n",
        "- Ajusta `size`, `tol`, `sigma_color` y `sigma_spatial` según la textura/ruido."
      ]
    }
  ],
  "metadata": {
    "kernelspec": {
      "display_name": "Python 3",
      "language": "python",
      "name": "python3"
    },
    "language_info": {
      "name": "python",
      "version": "3.11.8"
    }
  },
  "nbformat": 4,
  "nbformat_minor": 5
}