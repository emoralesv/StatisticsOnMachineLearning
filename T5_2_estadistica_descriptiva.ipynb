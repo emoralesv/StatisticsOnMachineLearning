{
  "cells": [
    {
      "cell_type": "markdown",
      "metadata": {},
      "source": [
        "# Estad\u00edstica descriptiva\n"
      ]
    },
    {
      "cell_type": "markdown",
      "metadata": {},
      "source": [
        "Resumimos un conjunto de datos con medidas descriptivas.\n"
      ]
    },
    {
      "cell_type": "markdown",
      "metadata": {},
      "source": [
        "Utilizamos un DataFrame de ventas mensuales para calcular estad\u00edsticas b\u00e1sicas.\n"
      ]
    },
    {
      "cell_type": "code",
      "metadata": {},
      "execution_count": null,
      "outputs": [],
      "source": [
        "\nimport pandas as pd\nventas = pd.DataFrame({'mes': range(1,7), 'monto':[10,15,13,17,14,20]})\ndescriptivas = ventas['monto'].describe()\nprint(descriptivas)\n"
      ]
    },
    {
      "cell_type": "code",
      "metadata": {},
      "execution_count": null,
      "outputs": [],
      "source": [
        "\nimport matplotlib.pyplot as plt\nplt.plot(ventas['mes'], ventas['monto'], marker='o')\nplt.title('Ventas mensuales')\nplt.xlabel('Mes')\nplt.ylabel('Monto')\nplt.show()\n"
      ]
    },
    {
      "cell_type": "markdown",
      "metadata": {},
      "source": [
        "Las medidas como la media y el rango describen la tendencia y variabilidad de las ventas.\n"
      ]
    },
    {
      "cell_type": "markdown",
      "metadata": {},
      "source": [
        "**Ejercicio:** Calcula la varianza de `ventas['monto']`. *Hint:* usa `ventas['monto'].var()`.\n"
      ]
    }
  ],
  "metadata": {
    "kernelspec": {
      "display_name": "Python 3",
      "language": "python",
      "name": "python3"
    },
    "language_info": {
      "name": "python",
      "version": "3.10"
    }
  },
  "nbformat": 4,
  "nbformat_minor": 5
}